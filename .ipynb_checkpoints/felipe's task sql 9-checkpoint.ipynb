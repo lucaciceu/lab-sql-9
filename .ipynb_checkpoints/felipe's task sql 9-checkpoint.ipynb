{
 "cells": [
  {
   "cell_type": "code",
   "execution_count": 1,
   "id": "private-electronics",
   "metadata": {},
   "outputs": [
    {
     "name": "stdout",
     "output_type": "stream",
     "text": [
      "········\n"
     ]
    }
   ],
   "source": [
    "import pymysql\n",
    "from sqlalchemy import create_engine\n",
    "import pandas as pd\n",
    "import getpass  # to get the password without showing the input\n",
    "password = getpass.getpass()"
   ]
  },
  {
   "cell_type": "code",
   "execution_count": 2,
   "id": "demanding-child",
   "metadata": {},
   "outputs": [
    {
     "data": {
      "text/html": [
       "<div>\n",
       "<style scoped>\n",
       "    .dataframe tbody tr th:only-of-type {\n",
       "        vertical-align: middle;\n",
       "    }\n",
       "\n",
       "    .dataframe tbody tr th {\n",
       "        vertical-align: top;\n",
       "    }\n",
       "\n",
       "    .dataframe thead th {\n",
       "        text-align: right;\n",
       "    }\n",
       "</style>\n",
       "<table border=\"1\" class=\"dataframe\">\n",
       "  <thead>\n",
       "    <tr style=\"text-align: right;\">\n",
       "      <th></th>\n",
       "      <th>inventory_id</th>\n",
       "      <th>film_id</th>\n",
       "      <th>rating</th>\n",
       "      <th>rental_id</th>\n",
       "      <th>rental_date</th>\n",
       "      <th>count</th>\n",
       "      <th>title</th>\n",
       "    </tr>\n",
       "  </thead>\n",
       "  <tbody>\n",
       "    <tr>\n",
       "      <th>0</th>\n",
       "      <td>1</td>\n",
       "      <td>1</td>\n",
       "      <td>PG</td>\n",
       "      <td>4863</td>\n",
       "      <td>2005-07-08 19:03:15</td>\n",
       "      <td>24</td>\n",
       "      <td>ACADEMY DINOSAUR</td>\n",
       "    </tr>\n",
       "    <tr>\n",
       "      <th>1</th>\n",
       "      <td>9</td>\n",
       "      <td>2</td>\n",
       "      <td>G</td>\n",
       "      <td>10310</td>\n",
       "      <td>2005-08-01 04:24:47</td>\n",
       "      <td>7</td>\n",
       "      <td>ACE GOLDFINGER</td>\n",
       "    </tr>\n",
       "    <tr>\n",
       "      <th>2</th>\n",
       "      <td>12</td>\n",
       "      <td>3</td>\n",
       "      <td>NC-17</td>\n",
       "      <td>6999</td>\n",
       "      <td>2005-07-27 01:21:19</td>\n",
       "      <td>12</td>\n",
       "      <td>ADAPTATION HOLES</td>\n",
       "    </tr>\n",
       "    <tr>\n",
       "      <th>3</th>\n",
       "      <td>16</td>\n",
       "      <td>4</td>\n",
       "      <td>G</td>\n",
       "      <td>6493</td>\n",
       "      <td>2005-07-12 02:40:41</td>\n",
       "      <td>23</td>\n",
       "      <td>AFFAIR PREJUDICE</td>\n",
       "    </tr>\n",
       "    <tr>\n",
       "      <th>4</th>\n",
       "      <td>23</td>\n",
       "      <td>5</td>\n",
       "      <td>G</td>\n",
       "      <td>552</td>\n",
       "      <td>2005-05-28 07:53:38</td>\n",
       "      <td>12</td>\n",
       "      <td>AFRICAN EGG</td>\n",
       "    </tr>\n",
       "  </tbody>\n",
       "</table>\n",
       "</div>"
      ],
      "text/plain": [
       "   inventory_id  film_id rating  rental_id         rental_date  count  \\\n",
       "0             1        1     PG       4863 2005-07-08 19:03:15     24   \n",
       "1             9        2      G      10310 2005-08-01 04:24:47      7   \n",
       "2            12        3  NC-17       6999 2005-07-27 01:21:19     12   \n",
       "3            16        4      G       6493 2005-07-12 02:40:41     23   \n",
       "4            23        5      G        552 2005-05-28 07:53:38     12   \n",
       "\n",
       "              title  \n",
       "0  ACADEMY DINOSAUR  \n",
       "1    ACE GOLDFINGER  \n",
       "2  ADAPTATION HOLES  \n",
       "3  AFFAIR PREJUDICE  \n",
       "4       AFRICAN EGG  "
      ]
     },
     "execution_count": 2,
     "metadata": {},
     "output_type": "execute_result"
    }
   ],
   "source": [
    "connection_string = 'mysql+pymysql://root:' + password + '@localhost/sakila'\n",
    "engine = create_engine(connection_string)\n",
    "data = pd.read_sql_query('select a.inventory_id, a.film_id, f.rating, l.rental_id, l.rental_date, count(rental_id) as count, f.title from inventory a left join rental l on a.inventory_id = l.inventory_id join film f on a.film_id = f.film_id group by film_id', engine)\n",
    "data.head()"
   ]
  },
  {
   "cell_type": "code",
   "execution_count": 3,
   "id": "corporate-arrest",
   "metadata": {},
   "outputs": [
    {
     "data": {
      "text/plain": [
       "((958, 7),\n",
       " inventory_id             int64\n",
       " film_id                  int64\n",
       " rating                  object\n",
       " rental_id                int64\n",
       " rental_date     datetime64[ns]\n",
       " count                    int64\n",
       " title                   object\n",
       " dtype: object)"
      ]
     },
     "execution_count": 3,
     "metadata": {},
     "output_type": "execute_result"
    }
   ],
   "source": [
    "data.shape, data.dtypes"
   ]
  },
  {
   "cell_type": "code",
   "execution_count": 4,
   "id": "pharmaceutical-familiar",
   "metadata": {},
   "outputs": [
    {
     "data": {
      "text/plain": [
       "inventory_id    0\n",
       "film_id         0\n",
       "rating          0\n",
       "rental_id       0\n",
       "rental_date     0\n",
       "count           0\n",
       "title           0\n",
       "dtype: int64"
      ]
     },
     "execution_count": 4,
     "metadata": {},
     "output_type": "execute_result"
    }
   ],
   "source": [
    "data.isna().sum()"
   ]
  },
  {
   "cell_type": "code",
   "execution_count": 5,
   "id": "soviet-jamaica",
   "metadata": {},
   "outputs": [
    {
     "data": {
      "text/html": [
       "<div>\n",
       "<style scoped>\n",
       "    .dataframe tbody tr th:only-of-type {\n",
       "        vertical-align: middle;\n",
       "    }\n",
       "\n",
       "    .dataframe tbody tr th {\n",
       "        vertical-align: top;\n",
       "    }\n",
       "\n",
       "    .dataframe thead th {\n",
       "        text-align: right;\n",
       "    }\n",
       "</style>\n",
       "<table border=\"1\" class=\"dataframe\">\n",
       "  <thead>\n",
       "    <tr style=\"text-align: right;\">\n",
       "      <th></th>\n",
       "      <th>inventory_id</th>\n",
       "      <th>film_id</th>\n",
       "      <th>rental_id</th>\n",
       "      <th>count</th>\n",
       "    </tr>\n",
       "  </thead>\n",
       "  <tbody>\n",
       "    <tr>\n",
       "      <th>count</th>\n",
       "      <td>958.000000</td>\n",
       "      <td>958.000000</td>\n",
       "      <td>958.000000</td>\n",
       "      <td>958.000000</td>\n",
       "    </tr>\n",
       "    <tr>\n",
       "      <th>mean</th>\n",
       "      <td>2296.699374</td>\n",
       "      <td>502.598121</td>\n",
       "      <td>4475.885177</td>\n",
       "      <td>16.748434</td>\n",
       "    </tr>\n",
       "    <tr>\n",
       "      <th>std</th>\n",
       "      <td>1317.853616</td>\n",
       "      <td>287.541738</td>\n",
       "      <td>3393.161538</td>\n",
       "      <td>6.677241</td>\n",
       "    </tr>\n",
       "    <tr>\n",
       "      <th>min</th>\n",
       "      <td>1.000000</td>\n",
       "      <td>1.000000</td>\n",
       "      <td>6.000000</td>\n",
       "      <td>4.000000</td>\n",
       "    </tr>\n",
       "    <tr>\n",
       "      <th>25%</th>\n",
       "      <td>1159.750000</td>\n",
       "      <td>256.250000</td>\n",
       "      <td>1315.500000</td>\n",
       "      <td>11.000000</td>\n",
       "    </tr>\n",
       "    <tr>\n",
       "      <th>50%</th>\n",
       "      <td>2322.000000</td>\n",
       "      <td>504.500000</td>\n",
       "      <td>3823.500000</td>\n",
       "      <td>16.000000</td>\n",
       "    </tr>\n",
       "    <tr>\n",
       "      <th>75%</th>\n",
       "      <td>3427.500000</td>\n",
       "      <td>751.750000</td>\n",
       "      <td>6994.500000</td>\n",
       "      <td>22.000000</td>\n",
       "    </tr>\n",
       "    <tr>\n",
       "      <th>max</th>\n",
       "      <td>4574.000000</td>\n",
       "      <td>1000.000000</td>\n",
       "      <td>11486.000000</td>\n",
       "      <td>34.000000</td>\n",
       "    </tr>\n",
       "  </tbody>\n",
       "</table>\n",
       "</div>"
      ],
      "text/plain": [
       "       inventory_id      film_id     rental_id       count\n",
       "count    958.000000   958.000000    958.000000  958.000000\n",
       "mean    2296.699374   502.598121   4475.885177   16.748434\n",
       "std     1317.853616   287.541738   3393.161538    6.677241\n",
       "min        1.000000     1.000000      6.000000    4.000000\n",
       "25%     1159.750000   256.250000   1315.500000   11.000000\n",
       "50%     2322.000000   504.500000   3823.500000   16.000000\n",
       "75%     3427.500000   751.750000   6994.500000   22.000000\n",
       "max     4574.000000  1000.000000  11486.000000   34.000000"
      ]
     },
     "execution_count": 5,
     "metadata": {},
     "output_type": "execute_result"
    }
   ],
   "source": [
    "data.describe()"
   ]
  },
  {
   "cell_type": "code",
   "execution_count": 6,
   "id": "opposed-wrong",
   "metadata": {},
   "outputs": [
    {
     "data": {
      "text/html": [
       "<div>\n",
       "<style scoped>\n",
       "    .dataframe tbody tr th:only-of-type {\n",
       "        vertical-align: middle;\n",
       "    }\n",
       "\n",
       "    .dataframe tbody tr th {\n",
       "        vertical-align: top;\n",
       "    }\n",
       "\n",
       "    .dataframe thead th {\n",
       "        text-align: right;\n",
       "    }\n",
       "</style>\n",
       "<table border=\"1\" class=\"dataframe\">\n",
       "  <thead>\n",
       "    <tr style=\"text-align: right;\">\n",
       "      <th></th>\n",
       "      <th>inventory_id</th>\n",
       "      <th>film_id</th>\n",
       "      <th>rating</th>\n",
       "      <th>rental_id</th>\n",
       "      <th>rental_date</th>\n",
       "      <th>count</th>\n",
       "    </tr>\n",
       "    <tr>\n",
       "      <th>title</th>\n",
       "      <th></th>\n",
       "      <th></th>\n",
       "      <th></th>\n",
       "      <th></th>\n",
       "      <th></th>\n",
       "      <th></th>\n",
       "    </tr>\n",
       "  </thead>\n",
       "  <tbody>\n",
       "    <tr>\n",
       "      <th>ACADEMY DINOSAUR</th>\n",
       "      <td>1</td>\n",
       "      <td>1</td>\n",
       "      <td>PG</td>\n",
       "      <td>4863</td>\n",
       "      <td>2005-07-08 19:03:15</td>\n",
       "      <td>24</td>\n",
       "    </tr>\n",
       "    <tr>\n",
       "      <th>ACE GOLDFINGER</th>\n",
       "      <td>9</td>\n",
       "      <td>2</td>\n",
       "      <td>G</td>\n",
       "      <td>10310</td>\n",
       "      <td>2005-08-01 04:24:47</td>\n",
       "      <td>7</td>\n",
       "    </tr>\n",
       "    <tr>\n",
       "      <th>ADAPTATION HOLES</th>\n",
       "      <td>12</td>\n",
       "      <td>3</td>\n",
       "      <td>NC-17</td>\n",
       "      <td>6999</td>\n",
       "      <td>2005-07-27 01:21:19</td>\n",
       "      <td>12</td>\n",
       "    </tr>\n",
       "    <tr>\n",
       "      <th>AFFAIR PREJUDICE</th>\n",
       "      <td>16</td>\n",
       "      <td>4</td>\n",
       "      <td>G</td>\n",
       "      <td>6493</td>\n",
       "      <td>2005-07-12 02:40:41</td>\n",
       "      <td>23</td>\n",
       "    </tr>\n",
       "    <tr>\n",
       "      <th>AFRICAN EGG</th>\n",
       "      <td>23</td>\n",
       "      <td>5</td>\n",
       "      <td>G</td>\n",
       "      <td>552</td>\n",
       "      <td>2005-05-28 07:53:38</td>\n",
       "      <td>12</td>\n",
       "    </tr>\n",
       "    <tr>\n",
       "      <th>...</th>\n",
       "      <td>...</td>\n",
       "      <td>...</td>\n",
       "      <td>...</td>\n",
       "      <td>...</td>\n",
       "      <td>...</td>\n",
       "      <td>...</td>\n",
       "    </tr>\n",
       "    <tr>\n",
       "      <th>YOUNG LANGUAGE</th>\n",
       "      <td>4563</td>\n",
       "      <td>996</td>\n",
       "      <td>G</td>\n",
       "      <td>4969</td>\n",
       "      <td>2005-07-08 23:51:26</td>\n",
       "      <td>7</td>\n",
       "    </tr>\n",
       "    <tr>\n",
       "      <th>YOUTH KICK</th>\n",
       "      <td>4565</td>\n",
       "      <td>997</td>\n",
       "      <td>NC-17</td>\n",
       "      <td>7240</td>\n",
       "      <td>2005-07-27 10:21:15</td>\n",
       "      <td>6</td>\n",
       "    </tr>\n",
       "    <tr>\n",
       "      <th>ZHIVAGO CORE</th>\n",
       "      <td>4567</td>\n",
       "      <td>998</td>\n",
       "      <td>NC-17</td>\n",
       "      <td>1884</td>\n",
       "      <td>2005-06-17 03:19:20</td>\n",
       "      <td>9</td>\n",
       "    </tr>\n",
       "    <tr>\n",
       "      <th>ZOOLANDER FICTION</th>\n",
       "      <td>4569</td>\n",
       "      <td>999</td>\n",
       "      <td>R</td>\n",
       "      <td>3734</td>\n",
       "      <td>2005-07-06 11:40:27</td>\n",
       "      <td>17</td>\n",
       "    </tr>\n",
       "    <tr>\n",
       "      <th>ZORRO ARK</th>\n",
       "      <td>4574</td>\n",
       "      <td>1000</td>\n",
       "      <td>NC-17</td>\n",
       "      <td>6901</td>\n",
       "      <td>2005-07-12 21:46:33</td>\n",
       "      <td>31</td>\n",
       "    </tr>\n",
       "  </tbody>\n",
       "</table>\n",
       "<p>958 rows × 6 columns</p>\n",
       "</div>"
      ],
      "text/plain": [
       "                   inventory_id  film_id rating  rental_id  \\\n",
       "title                                                        \n",
       "ACADEMY DINOSAUR              1        1     PG       4863   \n",
       "ACE GOLDFINGER                9        2      G      10310   \n",
       "ADAPTATION HOLES             12        3  NC-17       6999   \n",
       "AFFAIR PREJUDICE             16        4      G       6493   \n",
       "AFRICAN EGG                  23        5      G        552   \n",
       "...                         ...      ...    ...        ...   \n",
       "YOUNG LANGUAGE             4563      996      G       4969   \n",
       "YOUTH KICK                 4565      997  NC-17       7240   \n",
       "ZHIVAGO CORE               4567      998  NC-17       1884   \n",
       "ZOOLANDER FICTION          4569      999      R       3734   \n",
       "ZORRO ARK                  4574     1000  NC-17       6901   \n",
       "\n",
       "                          rental_date  count  \n",
       "title                                         \n",
       "ACADEMY DINOSAUR  2005-07-08 19:03:15     24  \n",
       "ACE GOLDFINGER    2005-08-01 04:24:47      7  \n",
       "ADAPTATION HOLES  2005-07-27 01:21:19     12  \n",
       "AFFAIR PREJUDICE  2005-07-12 02:40:41     23  \n",
       "AFRICAN EGG       2005-05-28 07:53:38     12  \n",
       "...                               ...    ...  \n",
       "YOUNG LANGUAGE    2005-07-08 23:51:26      7  \n",
       "YOUTH KICK        2005-07-27 10:21:15      6  \n",
       "ZHIVAGO CORE      2005-06-17 03:19:20      9  \n",
       "ZOOLANDER FICTION 2005-07-06 11:40:27     17  \n",
       "ZORRO ARK         2005-07-12 21:46:33     31  \n",
       "\n",
       "[958 rows x 6 columns]"
      ]
     },
     "execution_count": 6,
     "metadata": {},
     "output_type": "execute_result"
    }
   ],
   "source": [
    "data = data.set_index(['title'])\n",
    "data"
   ]
  },
  {
   "cell_type": "code",
   "execution_count": 7,
   "id": "opposite-margin",
   "metadata": {},
   "outputs": [
    {
     "name": "stdout",
     "output_type": "stream",
     "text": [
      "PG-13    213\n",
      "NC-17    202\n",
      "R        189\n",
      "PG       183\n",
      "G        171\n",
      "Name: rating, dtype: int64 \n",
      "\n"
     ]
    }
   ],
   "source": [
    "for col in data.select_dtypes('object'):\n",
    "    print(data[col].value_counts(), '\\n')"
   ]
  },
  {
   "cell_type": "code",
   "execution_count": 8,
   "id": "sunset-billy",
   "metadata": {},
   "outputs": [
    {
     "data": {
      "text/plain": [
       "title\n",
       "ACADEMY DINOSAUR     20050708\n",
       "ACE GOLDFINGER       20050801\n",
       "ADAPTATION HOLES     20050727\n",
       "AFFAIR PREJUDICE     20050712\n",
       "AFRICAN EGG          20050528\n",
       "                       ...   \n",
       "YOUNG LANGUAGE       20050708\n",
       "YOUTH KICK           20050727\n",
       "ZHIVAGO CORE         20050617\n",
       "ZOOLANDER FICTION    20050706\n",
       "ZORRO ARK            20050712\n",
       "Name: rental_date, Length: 958, dtype: object"
      ]
     },
     "execution_count": 8,
     "metadata": {},
     "output_type": "execute_result"
    }
   ],
   "source": [
    "#data['rental_date'] = pd.to_datetime().data['rental_date'].strftime(\"%Y%m%d\")\n",
    "#data['rental_date'] = pd.to_numeric(data['rental_date'].str.split(''))\n",
    "data['rental_date'] = pd.to_datetime(data['rental_date']).dt.strftime(\"%Y%m%d\")\n",
    "data['rental_date']"
   ]
  },
  {
   "cell_type": "code",
   "execution_count": 9,
   "id": "neither-zimbabwe",
   "metadata": {},
   "outputs": [
    {
     "data": {
      "text/plain": [
       "title\n",
       "ACADEMY DINOSAUR     20050708\n",
       "ACE GOLDFINGER       20050801\n",
       "ADAPTATION HOLES     20050727\n",
       "AFFAIR PREJUDICE     20050712\n",
       "AFRICAN EGG          20050528\n",
       "                       ...   \n",
       "YOUNG LANGUAGE       20050708\n",
       "YOUTH KICK           20050727\n",
       "ZHIVAGO CORE         20050617\n",
       "ZOOLANDER FICTION    20050706\n",
       "ZORRO ARK            20050712\n",
       "Name: rental_date, Length: 958, dtype: int32"
      ]
     },
     "execution_count": 9,
     "metadata": {},
     "output_type": "execute_result"
    }
   ],
   "source": [
    "data['rental_date'] = data['rental_date'].astype(int)\n",
    "data['rental_date']"
   ]
  },
  {
   "cell_type": "code",
   "execution_count": 10,
   "id": "hawaiian-contact",
   "metadata": {},
   "outputs": [
    {
     "data": {
      "text/plain": [
       "PG-13    213\n",
       "NC-17    202\n",
       "R        189\n",
       "PG       183\n",
       "G        171\n",
       "Name: rating, dtype: int64"
      ]
     },
     "execution_count": 10,
     "metadata": {},
     "output_type": "execute_result"
    }
   ],
   "source": [
    "rented_movie_count = data[col].value_counts()\n",
    "rented_movie_count"
   ]
  },
  {
   "cell_type": "code",
   "execution_count": 11,
   "id": "operational-offense",
   "metadata": {},
   "outputs": [],
   "source": [
    "#xxx = pd.DataFrame(rented_movie_count).reset_index()\n",
    "#rented_movie_count2 =pd.DataFrame([data, colums = data[col].values(), data[col].value_counts()])\n",
    "#rented_movie_count2"
   ]
  },
  {
   "cell_type": "code",
   "execution_count": 12,
   "id": "permanent-sending",
   "metadata": {},
   "outputs": [],
   "source": [
    "#xxx.columns = ['movie_title', 'counts']"
   ]
  },
  {
   "cell_type": "code",
   "execution_count": 13,
   "id": "endangered-samoa",
   "metadata": {},
   "outputs": [],
   "source": [
    "#xxx"
   ]
  },
  {
   "cell_type": "code",
   "execution_count": 14,
   "id": "understood-expansion",
   "metadata": {},
   "outputs": [],
   "source": [
    "import pymysql\n",
    "from sqlalchemy import create_engine\n",
    "import pandas as pd\n",
    "import numpy as np\n",
    "from matplotlib import pyplot as plt\n",
    "import seaborn as sns\n",
    "from sklearn.metrics import confusion_matrix\n",
    "from sklearn.model_selection import train_test_split\n",
    "from sklearn.linear_model import LogisticRegression\n",
    "from sklearn.preprocessing import StandardScaler"
   ]
  },
  {
   "cell_type": "code",
   "execution_count": 15,
   "id": "entire-public",
   "metadata": {},
   "outputs": [
    {
     "data": {
      "image/png": "[encoded data removed]",
      "text/plain": [
       "<Figure size 720x576 with 2 Axes>"
      ]
     },
     "metadata": {
      "needs_background": "light"
     },
     "output_type": "display_data"
    }
   ],
   "source": [
    "corr_matrix=data.corr(method='pearson')  # default\n",
    "fig, ax = plt.subplots(figsize=(10, 8))\n",
    "ax = sns.heatmap(corr_matrix, annot=True)\n",
    "plt.show()"
   ]
  },
  {
   "cell_type": "code",
   "execution_count": 16,
   "id": "usual-bones",
   "metadata": {},
   "outputs": [],
   "source": [
    "#data1 = data.copy()\n",
    "#data1 = pd.get_dummies(data1, columns=['title'])"
   ]
  },
  {
   "cell_type": "code",
   "execution_count": 17,
   "id": "rental-slide",
   "metadata": {},
   "outputs": [],
   "source": [
    "#X = data1.drop('rental_date', axis=1)"
   ]
  },
  {
   "cell_type": "code",
   "execution_count": 18,
   "id": "vocal-seattle",
   "metadata": {},
   "outputs": [],
   "source": [
    "data1 = data.copy()"
   ]
  },
  {
   "cell_type": "code",
   "execution_count": 19,
   "id": "tired-oxford",
   "metadata": {},
   "outputs": [],
   "source": [
    "#data1 = pd.get_dummies(data1)"
   ]
  },
  {
   "cell_type": "code",
   "execution_count": 20,
   "id": "statewide-horror",
   "metadata": {},
   "outputs": [],
   "source": [
    "y = data1['rental_date']"
   ]
  },
  {
   "cell_type": "code",
   "execution_count": 21,
   "id": "early-teens",
   "metadata": {},
   "outputs": [],
   "source": [
    "X = data1.drop(['film_id', 'inventory_id'], axis = 1)"
   ]
  },
  {
   "cell_type": "code",
   "execution_count": 22,
   "id": "falling-celebrity",
   "metadata": {},
   "outputs": [],
   "source": [
    "X = pd.get_dummies(X)"
   ]
  },
  {
   "cell_type": "code",
   "execution_count": 23,
   "id": "elegant-complexity",
   "metadata": {},
   "outputs": [
    {
     "data": {
      "text/html": [
       "<div>\n",
       "<style scoped>\n",
       "    .dataframe tbody tr th:only-of-type {\n",
       "        vertical-align: middle;\n",
       "    }\n",
       "\n",
       "    .dataframe tbody tr th {\n",
       "        vertical-align: top;\n",
       "    }\n",
       "\n",
       "    .dataframe thead th {\n",
       "        text-align: right;\n",
       "    }\n",
       "</style>\n",
       "<table border=\"1\" class=\"dataframe\">\n",
       "  <thead>\n",
       "    <tr style=\"text-align: right;\">\n",
       "      <th></th>\n",
       "      <th>inventory_id</th>\n",
       "      <th>film_id</th>\n",
       "      <th>rating</th>\n",
       "      <th>rental_id</th>\n",
       "      <th>rental_date</th>\n",
       "      <th>count</th>\n",
       "    </tr>\n",
       "    <tr>\n",
       "      <th>title</th>\n",
       "      <th></th>\n",
       "      <th></th>\n",
       "      <th></th>\n",
       "      <th></th>\n",
       "      <th></th>\n",
       "      <th></th>\n",
       "    </tr>\n",
       "  </thead>\n",
       "  <tbody>\n",
       "    <tr>\n",
       "      <th>ACADEMY DINOSAUR</th>\n",
       "      <td>1</td>\n",
       "      <td>1</td>\n",
       "      <td>PG</td>\n",
       "      <td>4863</td>\n",
       "      <td>20050708</td>\n",
       "      <td>24</td>\n",
       "    </tr>\n",
       "    <tr>\n",
       "      <th>ACE GOLDFINGER</th>\n",
       "      <td>9</td>\n",
       "      <td>2</td>\n",
       "      <td>G</td>\n",
       "      <td>10310</td>\n",
       "      <td>20050801</td>\n",
       "      <td>7</td>\n",
       "    </tr>\n",
       "    <tr>\n",
       "      <th>ADAPTATION HOLES</th>\n",
       "      <td>12</td>\n",
       "      <td>3</td>\n",
       "      <td>NC-17</td>\n",
       "      <td>6999</td>\n",
       "      <td>20050727</td>\n",
       "      <td>12</td>\n",
       "    </tr>\n",
       "    <tr>\n",
       "      <th>AFFAIR PREJUDICE</th>\n",
       "      <td>16</td>\n",
       "      <td>4</td>\n",
       "      <td>G</td>\n",
       "      <td>6493</td>\n",
       "      <td>20050712</td>\n",
       "      <td>23</td>\n",
       "    </tr>\n",
       "    <tr>\n",
       "      <th>AFRICAN EGG</th>\n",
       "      <td>23</td>\n",
       "      <td>5</td>\n",
       "      <td>G</td>\n",
       "      <td>552</td>\n",
       "      <td>20050528</td>\n",
       "      <td>12</td>\n",
       "    </tr>\n",
       "    <tr>\n",
       "      <th>...</th>\n",
       "      <td>...</td>\n",
       "      <td>...</td>\n",
       "      <td>...</td>\n",
       "      <td>...</td>\n",
       "      <td>...</td>\n",
       "      <td>...</td>\n",
       "    </tr>\n",
       "    <tr>\n",
       "      <th>YOUNG LANGUAGE</th>\n",
       "      <td>4563</td>\n",
       "      <td>996</td>\n",
       "      <td>G</td>\n",
       "      <td>4969</td>\n",
       "      <td>20050708</td>\n",
       "      <td>7</td>\n",
       "    </tr>\n",
       "    <tr>\n",
       "      <th>YOUTH KICK</th>\n",
       "      <td>4565</td>\n",
       "      <td>997</td>\n",
       "      <td>NC-17</td>\n",
       "      <td>7240</td>\n",
       "      <td>20050727</td>\n",
       "      <td>6</td>\n",
       "    </tr>\n",
       "    <tr>\n",
       "      <th>ZHIVAGO CORE</th>\n",
       "      <td>4567</td>\n",
       "      <td>998</td>\n",
       "      <td>NC-17</td>\n",
       "      <td>1884</td>\n",
       "      <td>20050617</td>\n",
       "      <td>9</td>\n",
       "    </tr>\n",
       "    <tr>\n",
       "      <th>ZOOLANDER FICTION</th>\n",
       "      <td>4569</td>\n",
       "      <td>999</td>\n",
       "      <td>R</td>\n",
       "      <td>3734</td>\n",
       "      <td>20050706</td>\n",
       "      <td>17</td>\n",
       "    </tr>\n",
       "    <tr>\n",
       "      <th>ZORRO ARK</th>\n",
       "      <td>4574</td>\n",
       "      <td>1000</td>\n",
       "      <td>NC-17</td>\n",
       "      <td>6901</td>\n",
       "      <td>20050712</td>\n",
       "      <td>31</td>\n",
       "    </tr>\n",
       "  </tbody>\n",
       "</table>\n",
       "<p>958 rows × 6 columns</p>\n",
       "</div>"
      ],
      "text/plain": [
       "                   inventory_id  film_id rating  rental_id  rental_date  count\n",
       "title                                                                         \n",
       "ACADEMY DINOSAUR              1        1     PG       4863     20050708     24\n",
       "ACE GOLDFINGER                9        2      G      10310     20050801      7\n",
       "ADAPTATION HOLES             12        3  NC-17       6999     20050727     12\n",
       "AFFAIR PREJUDICE             16        4      G       6493     20050712     23\n",
       "AFRICAN EGG                  23        5      G        552     20050528     12\n",
       "...                         ...      ...    ...        ...          ...    ...\n",
       "YOUNG LANGUAGE             4563      996      G       4969     20050708      7\n",
       "YOUTH KICK                 4565      997  NC-17       7240     20050727      6\n",
       "ZHIVAGO CORE               4567      998  NC-17       1884     20050617      9\n",
       "ZOOLANDER FICTION          4569      999      R       3734     20050706     17\n",
       "ZORRO ARK                  4574     1000  NC-17       6901     20050712     31\n",
       "\n",
       "[958 rows x 6 columns]"
      ]
     },
     "execution_count": 23,
     "metadata": {},
     "output_type": "execute_result"
    }
   ],
   "source": [
    "data1"
   ]
  },
  {
   "cell_type": "code",
   "execution_count": 24,
   "id": "spread-xerox",
   "metadata": {},
   "outputs": [],
   "source": [
    "X_train, X_test, y_train, y_test = train_test_split(X, y, test_size=0.2, random_state=60)"
   ]
  },
  {
   "cell_type": "code",
   "execution_count": 25,
   "id": "limiting-coating",
   "metadata": {},
   "outputs": [
    {
     "name": "stdout",
     "output_type": "stream",
     "text": [
      "<class 'pandas.core.frame.DataFrame'>\n",
      "Index: 958 entries, ACADEMY DINOSAUR to ZORRO ARK\n",
      "Data columns (total 6 columns):\n",
      " #   Column        Non-Null Count  Dtype \n",
      "---  ------        --------------  ----- \n",
      " 0   inventory_id  958 non-null    int64 \n",
      " 1   film_id       958 non-null    int64 \n",
      " 2   rating        958 non-null    object\n",
      " 3   rental_id     958 non-null    int64 \n",
      " 4   rental_date   958 non-null    int32 \n",
      " 5   count         958 non-null    int64 \n",
      "dtypes: int32(1), int64(4), object(1)\n",
      "memory usage: 80.9+ KB\n"
     ]
    }
   ],
   "source": [
    "data1.info()"
   ]
  },
  {
   "cell_type": "code",
   "execution_count": 26,
   "id": "fitted-cylinder",
   "metadata": {},
   "outputs": [
    {
     "name": "stderr",
     "output_type": "stream",
     "text": [
      "c:\\users\\ciceu\\appdata\\local\\programs\\python\\python39\\lib\\site-packages\\sklearn\\linear_model\\_logistic.py:763: ConvergenceWarning: lbfgs failed to converge (status=1):\n",
      "STOP: TOTAL NO. of ITERATIONS REACHED LIMIT.\n",
      "\n",
      "Increase the number of iterations (max_iter) or scale the data as shown in:\n",
      "    https://scikit-learn.org/stable/modules/preprocessing.html\n",
      "Please also refer to the documentation for alternative solver options:\n",
      "    https://scikit-learn.org/stable/modules/linear_model.html#logistic-regression\n",
      "  n_iter_i = _check_optimize_result(\n"
     ]
    },
    {
     "data": {
      "text/plain": [
       "LogisticRegression(random_state=60)"
      ]
     },
     "execution_count": 26,
     "metadata": {},
     "output_type": "execute_result"
    }
   ],
   "source": [
    "classification = LogisticRegression(random_state=60)\n",
    "\n",
    "classification.fit(X_train, y_train)"
   ]
  },
  {
   "cell_type": "code",
   "execution_count": 27,
   "id": "reserved-median",
   "metadata": {},
   "outputs": [
    {
     "data": {
      "text/plain": [
       "0.40625"
      ]
     },
     "execution_count": 27,
     "metadata": {},
     "output_type": "execute_result"
    }
   ],
   "source": [
    "classification.score(X_test, y_test)"
   ]
  },
  {
   "cell_type": "code",
   "execution_count": 28,
   "id": "similar-architecture",
   "metadata": {},
   "outputs": [
    {
     "data": {
      "text/plain": [
       "array([20050528, 20050712, 20050528, 20050530, 20050618, 20050528,\n",
       "       20050709, 20050712, 20050619, 20050727, 20050710, 20050707,\n",
       "       20050801, 20050801, 20050616, 20050531, 20050710, 20050706,\n",
       "       20050616, 20050707, 20050729, 20050710, 20050619, 20050712,\n",
       "       20050616, 20050531, 20050707, 20050618, 20050729, 20050801,\n",
       "       20050530, 20050710, 20050729, 20050528, 20050712, 20050528,\n",
       "       20050801, 20050707, 20050707, 20050712, 20050712, 20050530,\n",
       "       20050618, 20050528, 20050616, 20050727, 20050706, 20050729,\n",
       "       20050618, 20050707, 20050729, 20050618, 20050708, 20050621,\n",
       "       20050729, 20050616, 20050619, 20050708, 20050801, 20050531,\n",
       "       20050528, 20050528, 20050712, 20050801, 20050707, 20050528,\n",
       "       20050708, 20050712, 20050618, 20050727, 20050708, 20050621,\n",
       "       20050618, 20050618, 20050707, 20050729, 20050706, 20050712,\n",
       "       20050528, 20050729, 20050707, 20050621, 20050707, 20050727,\n",
       "       20050729, 20050528, 20050618, 20050801, 20050707, 20050708,\n",
       "       20050706, 20050528, 20050618, 20050528, 20050618, 20050801,\n",
       "       20050727, 20050710, 20050528, 20050728, 20050710, 20050621,\n",
       "       20050530, 20050616, 20050727, 20050710, 20050801, 20050621,\n",
       "       20050712, 20050528, 20050619, 20050708, 20050618, 20050728,\n",
       "       20050708, 20050528, 20050801, 20050708, 20050528, 20050801,\n",
       "       20050709, 20050621, 20050528, 20050710, 20050619, 20050708,\n",
       "       20050801, 20050729, 20050712, 20050619, 20050528, 20050531,\n",
       "       20050729, 20050530, 20050711, 20050801, 20050707, 20050531,\n",
       "       20050706, 20050712, 20050528, 20050528, 20050618, 20050727,\n",
       "       20050727, 20050727, 20050707, 20050618, 20050708, 20050729,\n",
       "       20050727, 20050710, 20050528, 20050616, 20050708, 20050706,\n",
       "       20050710, 20050801, 20050708, 20050712, 20050616, 20050619,\n",
       "       20050727, 20050531, 20050801, 20050801, 20050801, 20050619,\n",
       "       20050801, 20050618, 20050528, 20050621, 20050530, 20050728,\n",
       "       20050528, 20050528, 20050618, 20050618, 20050530, 20050618,\n",
       "       20050710, 20050712, 20050528, 20050729, 20050616, 20050619,\n",
       "       20050712, 20050727, 20050729, 20050712, 20050531, 20050727])"
      ]
     },
     "execution_count": 28,
     "metadata": {},
     "output_type": "execute_result"
    }
   ],
   "source": [
    "predictions = classification.predict(X_test)\n",
    "predictions"
   ]
  },
  {
   "cell_type": "code",
   "execution_count": 29,
   "id": "respective-plaza",
   "metadata": {},
   "outputs": [
    {
     "data": {
      "text/plain": [
       "array([[4.15458248e-10, 1.71371785e-01, 1.81294527e-01, ...,\n",
       "        5.24633380e-34, 9.68135923e-72, 2.77510248e-72],\n",
       "       [6.02513017e-05, 1.89447189e-22, 1.74025993e-22, ...,\n",
       "        4.14033569e-03, 7.59646489e-16, 4.18699638e-16],\n",
       "       [6.53415989e-11, 1.90083180e-01, 2.02003236e-01, ...,\n",
       "        1.20395656e-35, 3.42575960e-74, 9.61299655e-75],\n",
       "       ...,\n",
       "       [4.55604991e-06, 1.92222173e-25, 1.74798289e-25, ...,\n",
       "        2.19066160e-02, 2.48975016e-13, 1.43815540e-13],\n",
       "       [3.94952713e-08, 8.56346513e-02, 8.94801920e-02, ...,\n",
       "        8.78739619e-30, 2.46324576e-65, 7.47511452e-66],\n",
       "       [1.31823719e-07, 3.96930478e-29, 3.56781942e-29, ...,\n",
       "        8.26179569e-02, 1.06432975e-10, 6.48720851e-11]])"
      ]
     },
     "execution_count": 29,
     "metadata": {},
     "output_type": "execute_result"
    }
   ],
   "source": [
    "predictions_ = classification.predict_proba(X_test)\n",
    "predictions_"
   ]
  },
  {
   "cell_type": "code",
   "execution_count": 30,
   "id": "political-ownership",
   "metadata": {},
   "outputs": [
    {
     "data": {
      "text/plain": [
       "array([[ 0,  0,  0,  5,  0,  0,  0,  0,  0,  0,  0,  0,  0,  0,  0,  0,\n",
       "         0,  0,  0,  0,  0,  0,  0,  0,  0,  0,  0,  0,  0,  0],\n",
       "       [ 0,  0,  0,  6,  0,  0,  0,  0,  0,  0,  0,  0,  0,  0,  0,  0,\n",
       "         0,  0,  0,  0,  0,  0,  0,  0,  0,  0,  0,  0,  0,  0],\n",
       "       [ 0,  0,  0, 10,  0,  0,  0,  0,  0,  0,  0,  0,  0,  0,  0,  0,\n",
       "         0,  0,  0,  0,  0,  0,  0,  0,  0,  0,  0,  0,  0,  0],\n",
       "       [ 0,  0,  0,  5,  0,  3,  0,  0,  0,  0,  0,  0,  0,  0,  0,  0,\n",
       "         0,  0,  0,  0,  0,  0,  0,  0,  0,  0,  0,  0,  0,  0],\n",
       "       [ 0,  0,  0,  0,  0,  4,  0,  0,  0,  0,  0,  0,  0,  0,  0,  0,\n",
       "         0,  0,  0,  0,  0,  0,  0,  0,  0,  0,  0,  0,  0,  0],\n",
       "       [ 0,  0,  0,  0,  0,  0,  7,  0,  0,  0,  0,  0,  0,  0,  0,  0,\n",
       "         0,  0,  0,  0,  0,  0,  0,  0,  0,  0,  0,  0,  0,  0],\n",
       "       [ 0,  0,  0,  0,  0,  0,  0,  0,  0,  0,  0,  0,  0,  0,  0,  0,\n",
       "         0,  0,  0,  0,  0,  0,  0,  0,  0,  0,  0,  0,  0,  0],\n",
       "       [ 0,  0,  0,  0,  0,  0,  0,  0,  0,  1,  0,  0,  0,  0,  0,  0,\n",
       "         0,  0,  0,  0,  0,  0,  0,  0,  0,  0,  0,  0,  0,  0],\n",
       "       [ 0,  0,  0,  0,  0,  0,  0,  0,  0,  6,  0,  0,  0,  0,  0,  0,\n",
       "         0,  0,  0,  0,  0,  0,  0,  0,  0,  0,  0,  0,  0,  0],\n",
       "       [ 0,  0,  0,  0,  0,  0,  0,  0,  0,  2,  0,  5,  0,  0,  0,  0,\n",
       "         0,  0,  0,  0,  0,  0,  0,  0,  0,  0,  0,  0,  0,  0],\n",
       "       [ 0,  0,  0,  0,  0,  0,  0,  0,  0,  0,  0,  8,  0,  0,  0,  0,\n",
       "         0,  0,  0,  0,  0,  0,  0,  0,  0,  0,  0,  0,  0,  0],\n",
       "       [ 0,  0,  0,  0,  0,  0,  0,  0,  0,  0,  0,  5,  2,  0,  0,  0,\n",
       "         0,  0,  0,  0,  0,  0,  0,  0,  0,  0,  0,  0,  0,  0],\n",
       "       [ 0,  0,  0,  0,  0,  0,  0,  0,  0,  0,  0,  0,  7,  0,  0,  0,\n",
       "         0,  0,  0,  0,  0,  0,  0,  0,  0,  0,  0,  0,  0,  0],\n",
       "       [ 0,  0,  0,  0,  0,  0,  0,  0,  0,  0,  0,  0,  0,  0,  3,  0,\n",
       "         0,  0,  0,  0,  0,  0,  0,  0,  0,  0,  0,  0,  0,  0],\n",
       "       [ 0,  0,  0,  0,  0,  0,  0,  0,  0,  0,  0,  0,  0,  0,  4,  1,\n",
       "         0,  0,  0,  0,  0,  0,  0,  0,  0,  0,  0,  0,  0,  0],\n",
       "       [ 0,  0,  0,  0,  0,  0,  0,  0,  0,  0,  0,  0,  0,  0,  0,  5,\n",
       "         2,  0,  0,  0,  0,  0,  0,  0,  0,  0,  0,  0,  0,  0],\n",
       "       [ 0,  0,  0,  0,  0,  0,  0,  0,  0,  0,  0,  0,  0,  0,  0,  0,\n",
       "        10,  0,  0,  0,  0,  0,  0,  0,  0,  0,  0,  0,  0,  0],\n",
       "       [ 0,  0,  0,  0,  0,  0,  0,  0,  0,  0,  0,  0,  0,  0,  0,  0,\n",
       "         1,  7,  0,  0,  0,  0,  0,  0,  0,  0,  0,  0,  0,  0],\n",
       "       [ 0,  0,  0,  0,  0,  0,  0,  0,  0,  0,  0,  0,  0,  0,  0,  0,\n",
       "         0,  5,  2,  1,  0,  0,  0,  0,  0,  0,  0,  0,  0,  0],\n",
       "       [ 0,  0,  0,  0,  0,  0,  0,  0,  0,  0,  0,  0,  0,  0,  0,  0,\n",
       "         0,  0,  0,  7,  0,  0,  0,  0,  0,  0,  0,  0,  0,  0],\n",
       "       [ 0,  0,  0,  0,  0,  0,  0,  0,  0,  0,  0,  0,  0,  0,  0,  0,\n",
       "         0,  0,  0,  3,  1,  1,  0,  0,  0,  0,  0,  0,  0,  0],\n",
       "       [ 0,  0,  0,  0,  0,  0,  0,  0,  0,  0,  0,  0,  0,  0,  0,  0,\n",
       "         0,  0,  0,  0,  0, 13,  0,  0,  0,  0,  0,  0,  0,  0],\n",
       "       [ 0,  0,  0,  0,  0,  0,  0,  0,  0,  0,  0,  0,  0,  0,  0,  0,\n",
       "         0,  0,  0,  0,  0,  2,  0,  0,  0,  0,  0,  0,  0,  0],\n",
       "       [ 0,  0,  0,  0,  0,  0,  0,  0,  0,  0,  0,  0,  0,  0,  0,  0,\n",
       "         0,  0,  0,  0,  0,  0,  0,  2,  3,  0,  0,  0,  0,  0],\n",
       "       [ 0,  0,  0,  0,  0,  0,  0,  0,  0,  0,  0,  0,  0,  0,  0,  0,\n",
       "         0,  0,  0,  0,  0,  0,  0,  4,  0,  0,  0,  0,  0,  0],\n",
       "       [ 0,  0,  0,  0,  0,  0,  0,  0,  0,  0,  0,  0,  0,  0,  0,  0,\n",
       "         0,  0,  0,  0,  0,  0,  0,  7,  0,  0,  0,  0,  0,  0],\n",
       "       [ 0,  0,  0,  0,  0,  0,  0,  0,  0,  0,  0,  0,  0,  0,  0,  0,\n",
       "         0,  0,  0,  0,  0,  0,  0,  0,  0,  8,  0,  0,  0,  0],\n",
       "       [ 0,  0,  0,  0,  0,  0,  0,  0,  0,  0,  0,  0,  0,  0,  0,  0,\n",
       "         0,  0,  0,  0,  0,  0,  0,  0,  0,  6,  0,  0,  0,  0],\n",
       "       [ 0,  0,  0,  0,  0,  0,  0,  0,  0,  0,  0,  0,  0,  0,  0,  0,\n",
       "         0,  0,  0,  0,  0,  0,  0,  0,  0,  0,  0,  0,  8,  0],\n",
       "       [ 0,  0,  0,  0,  0,  0,  0,  0,  0,  0,  0,  0,  0,  0,  0,  0,\n",
       "         0,  0,  0,  0,  0,  0,  0,  0,  0,  0,  0,  0, 10,  0]],\n",
       "      dtype=int64)"
      ]
     },
     "execution_count": 30,
     "metadata": {},
     "output_type": "execute_result"
    }
   ],
   "source": [
    "confusion_matrix(y_test, predictions)"
   ]
  },
  {
   "cell_type": "code",
   "execution_count": null,
   "id": "proud-turner",
   "metadata": {},
   "outputs": [],
   "source": []
  },
  {
   "cell_type": "code",
   "execution_count": null,
   "id": "polyphonic-copying",
   "metadata": {},
   "outputs": [],
   "source": []
  }
 ],
 "metadata": {
  "kernelspec": {
   "display_name": "Python 3",
   "language": "python",
   "name": "python3"
  },
  "language_info": {
   "codemirror_mode": {
    "name": "ipython",
    "version": 3
   },
   "file_extension": ".py",
   "mimetype": "text/x-python",
   "name": "python",
   "nbconvert_exporter": "python",
   "pygments_lexer": "ipython3",
   "version": "3.9.1"
  }
 },
 "nbformat": 4,
 "nbformat_minor": 5
}
